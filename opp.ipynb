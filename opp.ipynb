{
 "cells": [
  {
   "cell_type": "code",
   "execution_count": null,
   "metadata": {},
   "outputs": [],
   "source": [
    "# object oriented programing"
   ]
  },
  {
   "cell_type": "code",
   "execution_count": 4,
   "metadata": {},
   "outputs": [],
   "source": [
    "class student:\n",
    "    pass"
   ]
  },
  {
   "cell_type": "code",
   "execution_count": 18,
   "metadata": {},
   "outputs": [],
   "source": [
    "class Student:\n",
    "    pass"
   ]
  },
  {
   "cell_type": "code",
   "execution_count": 6,
   "metadata": {},
   "outputs": [],
   "source": [
    "class Student:\n",
    "    ..."
   ]
  },
  {
   "cell_type": "code",
   "execution_count": 7,
   "metadata": {},
   "outputs": [],
   "source": [
    "class Student:..."
   ]
  },
  {
   "cell_type": "code",
   "execution_count": 17,
   "metadata": {},
   "outputs": [],
   "source": [
    "class student:\n",
    "    # properties\n",
    "    # class variables\n",
    "    student_names = ['mohit','rohit','vivek','yash']\n",
    "    student_class = 3\n",
    "    student_branch = \"computer scince engineering\"\n",
    "    collage_name = \"IIT lucknow\"\n"
   ]
  },
  {
   "cell_type": "code",
   "execution_count": 24,
   "metadata": {},
   "outputs": [
    {
     "data": {
      "text/plain": [
       "['mohit', 'rohit', 'vivek', 'yash']"
      ]
     },
     "execution_count": 24,
     "metadata": {},
     "output_type": "execute_result"
    }
   ],
   "source": [
    "obj=student()                            # object or intance initilaization\n",
    "obj.student_names    "
   ]
  },
  {
   "cell_type": "code",
   "execution_count": null,
   "metadata": {},
   "outputs": [],
   "source": [
    "#constructor it is a special kind of fuction or method , \n",
    "#you dont need to call the constructor , constructor exectur when you will create an object\n",
    "\n"
   ]
  },
  {
   "cell_type": "code",
   "execution_count": 19,
   "metadata": {},
   "outputs": [],
   "source": [
    "\n",
    "# instance variable    \n",
    "class Student:\n",
    "    \n",
    "    # class variable \n",
    "     college_name = \"IET Lucknow\"\n",
    "\n",
    "     # constructor to create or initialaize  instance variable \n",
    "     def __init__(self,name,clas,branch,marks):\n",
    "        # instance variable \n",
    "        self.student_names = name  # list\n",
    "        self.student_class = clas \n",
    "        self.student_branch = branch\n",
    "        self.student_marks = marks \n",
    "        print(\"Constructor executed\")\n",
    "\n",
    "\n",
    "    #functions or methods \n",
    "     def no_of_student(self):\n",
    "        count = len(self.student_names)\n",
    "        print(\"your no of student is : \",count)\n",
    "        print()\n",
    "\n",
    "     def my_len(self):\n",
    "        count = 0\n",
    "        for item in self.student_names :\n",
    "            count += 1\n",
    "        print(\"your no of student is : \", count)\n",
    "        print(\"your marks of students :\",count)\n",
    "\n",
    "     def pass_or_fail_program (self):\n",
    "        no_of_pass_student = 0\n",
    "        no_of_fail_student = 0\n",
    "        for item in self.student_marks:\n",
    "            if item >= 30:\n",
    "                print(\"pass\",item)\n",
    "                no_of_pass_student+=1\n",
    "            else:\n",
    "                print(\"fail\",item)\n",
    "                no_of_fail_student+=1\n",
    "\n",
    "\n",
    "            print(\"your fail student is:\",no_of_fail_student)\n",
    "            print(\"your pass student is:\",no_of_pass_student)\n",
    "  "
   ]
  },
  {
   "cell_type": "code",
   "execution_count": 20,
   "metadata": {},
   "outputs": [
    {
     "name": "stdout",
     "output_type": "stream",
     "text": [
      "Constructor executed\n",
      "Constructor executed\n",
      "Constructor executed\n"
     ]
    }
   ],
   "source": [
    "first_year = Student(name=['rohit','mohit'],clas=1,branch='CSE',marks=[41,52,74,58,68,92,98,45,36,27,85])\n",
    "second_year = Student(name=['rakesh','rocky','motu','patlu'],clas=2,branch='CSE',marks=[41,52,74,58,68,92,98,45,36,27,85])\n",
    "third_year = Student(name=['pappu','bhola'],clas=3,branch='CSE',marks=[41,52,74,58,68,92,98,45,36,27,85])"
   ]
  },
  {
   "cell_type": "code",
   "execution_count": 14,
   "metadata": {},
   "outputs": [
    {
     "name": "stdout",
     "output_type": "stream",
     "text": [
      "your no of student is :  2\n",
      "\n",
      "your no of student is :  4\n",
      "\n",
      "your no of student is :  2\n",
      "\n"
     ]
    }
   ],
   "source": [
    "first_year.no_of_student()\n",
    "second_year.no_of_student()\n",
    "third_year.no_of_student()"
   ]
  },
  {
   "cell_type": "code",
   "execution_count": 22,
   "metadata": {},
   "outputs": [
    {
     "name": "stdout",
     "output_type": "stream",
     "text": [
      "pass 41\n",
      "your fail student is: 0\n",
      "your pass student is: 1\n",
      "pass 52\n",
      "your fail student is: 0\n",
      "your pass student is: 2\n",
      "pass 74\n",
      "your fail student is: 0\n",
      "your pass student is: 3\n",
      "pass 58\n",
      "your fail student is: 0\n",
      "your pass student is: 4\n",
      "pass 68\n",
      "your fail student is: 0\n",
      "your pass student is: 5\n",
      "pass 92\n",
      "your fail student is: 0\n",
      "your pass student is: 6\n",
      "pass 98\n",
      "your fail student is: 0\n",
      "your pass student is: 7\n",
      "pass 45\n",
      "your fail student is: 0\n",
      "your pass student is: 8\n",
      "pass 36\n",
      "your fail student is: 0\n",
      "your pass student is: 9\n",
      "fail 27\n",
      "your fail student is: 1\n",
      "your pass student is: 9\n",
      "pass 85\n",
      "your fail student is: 1\n",
      "your pass student is: 10\n",
      "pass 41\n",
      "your fail student is: 0\n",
      "your pass student is: 1\n",
      "pass 52\n",
      "your fail student is: 0\n",
      "your pass student is: 2\n",
      "pass 74\n",
      "your fail student is: 0\n",
      "your pass student is: 3\n",
      "pass 58\n",
      "your fail student is: 0\n",
      "your pass student is: 4\n",
      "pass 68\n",
      "your fail student is: 0\n",
      "your pass student is: 5\n",
      "pass 92\n",
      "your fail student is: 0\n",
      "your pass student is: 6\n",
      "pass 98\n",
      "your fail student is: 0\n",
      "your pass student is: 7\n",
      "pass 45\n",
      "your fail student is: 0\n",
      "your pass student is: 8\n",
      "pass 36\n",
      "your fail student is: 0\n",
      "your pass student is: 9\n",
      "fail 27\n",
      "your fail student is: 1\n",
      "your pass student is: 9\n",
      "pass 85\n",
      "your fail student is: 1\n",
      "your pass student is: 10\n",
      "pass 41\n",
      "your fail student is: 0\n",
      "your pass student is: 1\n",
      "pass 52\n",
      "your fail student is: 0\n",
      "your pass student is: 2\n",
      "pass 74\n",
      "your fail student is: 0\n",
      "your pass student is: 3\n",
      "pass 58\n",
      "your fail student is: 0\n",
      "your pass student is: 4\n",
      "pass 68\n",
      "your fail student is: 0\n",
      "your pass student is: 5\n",
      "pass 92\n",
      "your fail student is: 0\n",
      "your pass student is: 6\n",
      "pass 98\n",
      "your fail student is: 0\n",
      "your pass student is: 7\n",
      "pass 45\n",
      "your fail student is: 0\n",
      "your pass student is: 8\n",
      "pass 36\n",
      "your fail student is: 0\n",
      "your pass student is: 9\n",
      "fail 27\n",
      "your fail student is: 1\n",
      "your pass student is: 9\n",
      "pass 85\n",
      "your fail student is: 1\n",
      "your pass student is: 10\n"
     ]
    }
   ],
   "source": [
    "first_year.pass_or_fail_program()          \n",
    "second_year.pass_or_fail_program()   \n",
    "third_year.pass_or_fail_program() "
   ]
  },
  {
   "cell_type": "code",
   "execution_count": 7,
   "metadata": {},
   "outputs": [
    {
     "name": "stdout",
     "output_type": "stream",
     "text": [
      "1\n",
      "2\n",
      "3\n"
     ]
    }
   ],
   "source": [
    "print(first_year.student_class)\n",
    "print(second_year.student_class)\n",
    "print(third_year.student_class)"
   ]
  }
 ],
 "metadata": {
  "kernelspec": {
   "display_name": "Python 3",
   "language": "python",
   "name": "python3"
  },
  "language_info": {
   "codemirror_mode": {
    "name": "ipython",
    "version": 3
   },
   "file_extension": ".py",
   "mimetype": "text/x-python",
   "name": "python",
   "nbconvert_exporter": "python",
   "pygments_lexer": "ipython3",
   "version": "3.12.4"
  }
 },
 "nbformat": 4,
 "nbformat_minor": 2
}
